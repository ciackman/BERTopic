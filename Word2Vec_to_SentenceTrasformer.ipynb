{
  "nbformat": 4,
  "nbformat_minor": 0,
  "metadata": {
    "colab": {
      "provenance": []
    },
    "kernelspec": {
      "name": "python3",
      "display_name": "Python 3"
    },
    "language_info": {
      "name": "python"
    }
  },
  "cells": [
    {
      "cell_type": "code",
      "source": [
        "#Installazione di sentence_trasformers\n",
        "!pip install sentence_transformers"
      ],
      "metadata": {
        "colab": {
          "base_uri": "https://localhost:8080/"
        },
        "id": "_cyUh8Nqvt6F",
        "outputId": "bf9b66bd-d5ba-4cf6-ae26-b52d29592585"
      },
      "execution_count": 12,
      "outputs": [
        {
          "output_type": "stream",
          "name": "stdout",
          "text": [
            "Requirement already satisfied: sentence_transformers in /usr/local/lib/python3.10/dist-packages (2.2.2)\n",
            "Requirement already satisfied: transformers<5.0.0,>=4.6.0 in /usr/local/lib/python3.10/dist-packages (from sentence_transformers) (4.35.0)\n",
            "Requirement already satisfied: tqdm in /usr/local/lib/python3.10/dist-packages (from sentence_transformers) (4.66.1)\n",
            "Requirement already satisfied: torch>=1.6.0 in /usr/local/lib/python3.10/dist-packages (from sentence_transformers) (2.1.0+cu118)\n",
            "Requirement already satisfied: torchvision in /usr/local/lib/python3.10/dist-packages (from sentence_transformers) (0.16.0+cu118)\n",
            "Requirement already satisfied: numpy in /usr/local/lib/python3.10/dist-packages (from sentence_transformers) (1.23.5)\n",
            "Requirement already satisfied: scikit-learn in /usr/local/lib/python3.10/dist-packages (from sentence_transformers) (1.2.2)\n",
            "Requirement already satisfied: scipy in /usr/local/lib/python3.10/dist-packages (from sentence_transformers) (1.11.3)\n",
            "Requirement already satisfied: nltk in /usr/local/lib/python3.10/dist-packages (from sentence_transformers) (3.8.1)\n",
            "Requirement already satisfied: sentencepiece in /usr/local/lib/python3.10/dist-packages (from sentence_transformers) (0.1.99)\n",
            "Requirement already satisfied: huggingface-hub>=0.4.0 in /usr/local/lib/python3.10/dist-packages (from sentence_transformers) (0.17.3)\n",
            "Requirement already satisfied: filelock in /usr/local/lib/python3.10/dist-packages (from huggingface-hub>=0.4.0->sentence_transformers) (3.13.1)\n",
            "Requirement already satisfied: fsspec in /usr/local/lib/python3.10/dist-packages (from huggingface-hub>=0.4.0->sentence_transformers) (2023.6.0)\n",
            "Requirement already satisfied: requests in /usr/local/lib/python3.10/dist-packages (from huggingface-hub>=0.4.0->sentence_transformers) (2.31.0)\n",
            "Requirement already satisfied: pyyaml>=5.1 in /usr/local/lib/python3.10/dist-packages (from huggingface-hub>=0.4.0->sentence_transformers) (6.0.1)\n",
            "Requirement already satisfied: typing-extensions>=3.7.4.3 in /usr/local/lib/python3.10/dist-packages (from huggingface-hub>=0.4.0->sentence_transformers) (4.5.0)\n",
            "Requirement already satisfied: packaging>=20.9 in /usr/local/lib/python3.10/dist-packages (from huggingface-hub>=0.4.0->sentence_transformers) (23.2)\n",
            "Requirement already satisfied: sympy in /usr/local/lib/python3.10/dist-packages (from torch>=1.6.0->sentence_transformers) (1.12)\n",
            "Requirement already satisfied: networkx in /usr/local/lib/python3.10/dist-packages (from torch>=1.6.0->sentence_transformers) (3.2.1)\n",
            "Requirement already satisfied: jinja2 in /usr/local/lib/python3.10/dist-packages (from torch>=1.6.0->sentence_transformers) (3.1.2)\n",
            "Requirement already satisfied: triton==2.1.0 in /usr/local/lib/python3.10/dist-packages (from torch>=1.6.0->sentence_transformers) (2.1.0)\n",
            "Requirement already satisfied: regex!=2019.12.17 in /usr/local/lib/python3.10/dist-packages (from transformers<5.0.0,>=4.6.0->sentence_transformers) (2023.6.3)\n",
            "Requirement already satisfied: tokenizers<0.15,>=0.14 in /usr/local/lib/python3.10/dist-packages (from transformers<5.0.0,>=4.6.0->sentence_transformers) (0.14.1)\n",
            "Requirement already satisfied: safetensors>=0.3.1 in /usr/local/lib/python3.10/dist-packages (from transformers<5.0.0,>=4.6.0->sentence_transformers) (0.4.0)\n",
            "Requirement already satisfied: click in /usr/local/lib/python3.10/dist-packages (from nltk->sentence_transformers) (8.1.7)\n",
            "Requirement already satisfied: joblib in /usr/local/lib/python3.10/dist-packages (from nltk->sentence_transformers) (1.3.2)\n",
            "Requirement already satisfied: threadpoolctl>=2.0.0 in /usr/local/lib/python3.10/dist-packages (from scikit-learn->sentence_transformers) (3.2.0)\n",
            "Requirement already satisfied: pillow!=8.3.*,>=5.3.0 in /usr/local/lib/python3.10/dist-packages (from torchvision->sentence_transformers) (9.4.0)\n",
            "Requirement already satisfied: MarkupSafe>=2.0 in /usr/local/lib/python3.10/dist-packages (from jinja2->torch>=1.6.0->sentence_transformers) (2.1.3)\n",
            "Requirement already satisfied: charset-normalizer<4,>=2 in /usr/local/lib/python3.10/dist-packages (from requests->huggingface-hub>=0.4.0->sentence_transformers) (3.3.2)\n",
            "Requirement already satisfied: idna<4,>=2.5 in /usr/local/lib/python3.10/dist-packages (from requests->huggingface-hub>=0.4.0->sentence_transformers) (3.4)\n",
            "Requirement already satisfied: urllib3<3,>=1.21.1 in /usr/local/lib/python3.10/dist-packages (from requests->huggingface-hub>=0.4.0->sentence_transformers) (2.0.7)\n",
            "Requirement already satisfied: certifi>=2017.4.17 in /usr/local/lib/python3.10/dist-packages (from requests->huggingface-hub>=0.4.0->sentence_transformers) (2023.7.22)\n",
            "Requirement already satisfied: mpmath>=0.19 in /usr/local/lib/python3.10/dist-packages (from sympy->torch>=1.6.0->sentence_transformers) (1.3.0)\n"
          ]
        }
      ]
    },
    {
      "cell_type": "code",
      "source": [
        "# Importiamo Word2Vec\n",
        "from gensim.models import Word2Vec\n",
        "from nltk.tokenize import word_tokenize\n",
        "import nltk\n",
        "nltk.download('punkt') # stai scaricando i dati e i modelli necessari per utilizzare il tokenizzatore Punkt di NLTK"
      ],
      "metadata": {
        "id": "eSkUXfX0Zr3Q",
        "colab": {
          "base_uri": "https://localhost:8080/"
        },
        "outputId": "28eb5252-58d6-4533-ae41-2389c5f52ff8"
      },
      "execution_count": 13,
      "outputs": [
        {
          "output_type": "stream",
          "name": "stderr",
          "text": [
            "[nltk_data] Downloading package punkt to /root/nltk_data...\n",
            "[nltk_data]   Package punkt is already up-to-date!\n"
          ]
        },
        {
          "output_type": "execute_result",
          "data": {
            "text/plain": [
              "True"
            ]
          },
          "metadata": {},
          "execution_count": 13
        }
      ]
    },
    {
      "cell_type": "code",
      "source": [
        "# Definiamo il corpus di testo su cui addestrare il modello Word2Vec\n",
        "corpus = [\n",
        "    \"we went to the river bank\",\n",
        "    \"I need to go to bank to make a deposit\"\n",
        "]\n",
        "corpus"
      ],
      "metadata": {
        "colab": {
          "base_uri": "https://localhost:8080/"
        },
        "id": "HFwJr5YIesDB",
        "outputId": "9895b8a9-3924-4e81-862c-51fcf1ba8fa1"
      },
      "execution_count": 14,
      "outputs": [
        {
          "output_type": "execute_result",
          "data": {
            "text/plain": [
              "['we went to the river bank', 'I need to go to bank to make a deposit']"
            ]
          },
          "metadata": {},
          "execution_count": 14
        }
      ]
    },
    {
      "cell_type": "code",
      "source": [
        "# Tokenizzazione del corpus\n",
        "tokenized_corpus = [word_tokenize(sentence) for sentence in corpus]\n",
        "tokenized_corpus"
      ],
      "metadata": {
        "colab": {
          "base_uri": "https://localhost:8080/"
        },
        "id": "SzyHXwreewuc",
        "outputId": "dbe5a7eb-9e12-4931-995a-ad871961dc92"
      },
      "execution_count": 4,
      "outputs": [
        {
          "output_type": "execute_result",
          "data": {
            "text/plain": [
              "[['we', 'went', 'to', 'the', 'river', 'bank'],\n",
              " ['I', 'need', 'to', 'go', 'to', 'bank', 'to', 'make', 'a', 'deposit']]"
            ]
          },
          "metadata": {},
          "execution_count": 4
        }
      ]
    },
    {
      "cell_type": "code",
      "source": [
        "# Addestramento del modello Word2Vec\n",
        "model = Word2Vec(tokenized_corpus,\n",
        "                 vector_size=100, #dimensione dei vettori. Ogni parola un vettore da 100 dimensioni\n",
        "                 window=5,        #contesto su una slice di 5 parole (contesto locale. non relazioni a lungo raggio come i TRASFORMERS)\n",
        "                 min_count=1,     #numero minimo di volte che una parola deve apparire nel corpus per essere inclusa nel vocabolario del modello\n",
        "                 sg=0)            #Un valore di 0 (sg=0) indica l'uso dell'algoritmo Continuous Bag of Words (CBOW), mentre un valore di 1 (sg=1) indica l'uso dell'algoritmo Skip-gram\n",
        "\n",
        "\n"
      ],
      "metadata": {
        "id": "5GlR5wnsfBr0"
      },
      "execution_count": 15,
      "outputs": []
    },
    {
      "cell_type": "code",
      "source": [
        "# Calcolo degli embedding per le due frasi\n",
        "sentence1 = \"we went to the river bank\"\n",
        "sentence2 = \"I need to go to bank to make a deposit\"\n",
        "\n",
        "tokens1 = word_tokenize(sentence1)\n",
        "tokens2 = word_tokenize(sentence2)\n",
        "print(tokens1)\n",
        "print(tokens2)"
      ],
      "metadata": {
        "colab": {
          "base_uri": "https://localhost:8080/"
        },
        "id": "1vo5H4k7aEaR",
        "outputId": "0828d293-b673-451f-a643-738367b9c854"
      },
      "execution_count": 16,
      "outputs": [
        {
          "output_type": "stream",
          "name": "stdout",
          "text": [
            "['we', 'went', 'to', 'the', 'river', 'bank']\n",
            "['I', 'need', 'to', 'go', 'to', 'bank', 'to', 'make', 'a', 'deposit']\n"
          ]
        }
      ]
    },
    {
      "cell_type": "code",
      "source": [
        "# Lista embedding che contiene gli embedding delle parole dalla lista tokens, ma solo se queste parole sono presenti nel vocabolario del modello Word2Vec\n",
        "embedding1 = [model.wv[word] for word in tokens1 if word in model.wv.index_to_key]\n",
        "embedding2 = [model.wv[word] for word in tokens2 if word in model.wv.index_to_key]"
      ],
      "metadata": {
        "id": "OjjaHJPg8a4i"
      },
      "execution_count": 17,
      "outputs": []
    },
    {
      "cell_type": "code",
      "source": [
        "# Stampa i risultati\n",
        "#print(\"Embedding della prima frase:\")\n",
        "#print(embedding1)\n",
        "print(embedding1[-1]) # --> parola bank\n",
        "\n",
        "#print(\"Embedding della seconda frase:\")\n",
        "#print(embedding2)\n",
        "#print(len(embedding2))\n",
        "#print(embedding2[5]) # --> parola bank\n",
        "#print(len(embedding2[0]))\n",
        "#type(embedding1)"
      ],
      "metadata": {
        "colab": {
          "base_uri": "https://localhost:8080/"
        },
        "id": "w9hcrqfN8bqc",
        "outputId": "94abb097-d013-4fa9-dada-45a33fcbe7b4"
      },
      "execution_count": 20,
      "outputs": [
        {
          "output_type": "stream",
          "name": "stdout",
          "text": [
            "[-8.6196875e-03  3.6657380e-03  5.1898835e-03  5.7419385e-03\n",
            "  7.4669183e-03 -6.1676754e-03  1.1056137e-03  6.0472824e-03\n",
            " -2.8400505e-03 -6.1735227e-03 -4.1022300e-04 -8.3689485e-03\n",
            " -5.6000124e-03  7.1045388e-03  3.3525396e-03  7.2256695e-03\n",
            "  6.8002474e-03  7.5307419e-03 -3.7891543e-03 -5.6180597e-04\n",
            "  2.3483764e-03 -4.5190323e-03  8.3887316e-03 -9.8581640e-03\n",
            "  6.7646410e-03  2.9144168e-03 -4.9328315e-03  4.3981876e-03\n",
            " -1.7395747e-03  6.7113843e-03  9.9648498e-03 -4.3624435e-03\n",
            " -5.9933780e-04 -5.6956373e-03  3.8508223e-03  2.7866268e-03\n",
            "  6.8910765e-03  6.1010956e-03  9.5384968e-03  9.2734173e-03\n",
            "  7.8980681e-03 -6.9895042e-03 -9.1558648e-03 -3.5575271e-04\n",
            " -3.0998408e-03  7.8943167e-03  5.9385742e-03 -1.5456629e-03\n",
            "  1.5109634e-03  1.7900408e-03  7.8175711e-03 -9.5101865e-03\n",
            " -2.0553112e-04  3.4691966e-03 -9.3897223e-04  8.3817719e-03\n",
            "  9.0107834e-03  6.5365066e-03 -7.1162102e-04  7.7104042e-03\n",
            " -8.5343346e-03  3.2071066e-03 -4.6379971e-03 -5.0889552e-03\n",
            "  3.5896183e-03  5.3703394e-03  7.7695143e-03 -5.7665063e-03\n",
            "  7.4333609e-03  6.6254963e-03 -3.7098003e-03 -8.7456414e-03\n",
            "  5.4374672e-03  6.5097557e-03 -7.8755023e-04 -6.7098560e-03\n",
            " -7.0859254e-03 -2.4970602e-03  5.1432536e-03 -3.6652375e-03\n",
            " -9.3700597e-03  3.8267397e-03  4.8844791e-03 -6.4285635e-03\n",
            "  1.2085581e-03 -2.0748770e-03  2.4403334e-05 -9.8835090e-03\n",
            "  2.6920044e-03 -4.7501065e-03  1.0876465e-03 -1.5762246e-03\n",
            "  2.1966731e-03 -7.8815762e-03 -2.7171839e-03  2.6631986e-03\n",
            "  5.3466819e-03 -2.3915148e-03 -9.5100943e-03  4.5058788e-03]\n"
          ]
        }
      ]
    },
    {
      "cell_type": "code",
      "source": [
        "# Otteniamo l'embedding per la parola \"bank\" dal modello\n",
        "embedding_bank = model.wv[\"bank\"] #model.\"word-vector\" of [\"bank\"]\n",
        "\n",
        "# Stampa l'embedding\n",
        "print(\"Embedding della parola 'bank':\")\n",
        "print(embedding_bank) #-->  è uno per entrambi i contesti"
      ],
      "metadata": {
        "colab": {
          "base_uri": "https://localhost:8080/"
        },
        "id": "xiyVUgRBaV4U",
        "outputId": "66c9d72e-f76d-4292-ece6-d3cb481d9caa"
      },
      "execution_count": 21,
      "outputs": [
        {
          "output_type": "stream",
          "name": "stdout",
          "text": [
            "Embedding della parola 'bank':\n",
            "[-8.6196875e-03  3.6657380e-03  5.1898835e-03  5.7419385e-03\n",
            "  7.4669183e-03 -6.1676754e-03  1.1056137e-03  6.0472824e-03\n",
            " -2.8400505e-03 -6.1735227e-03 -4.1022300e-04 -8.3689485e-03\n",
            " -5.6000124e-03  7.1045388e-03  3.3525396e-03  7.2256695e-03\n",
            "  6.8002474e-03  7.5307419e-03 -3.7891543e-03 -5.6180597e-04\n",
            "  2.3483764e-03 -4.5190323e-03  8.3887316e-03 -9.8581640e-03\n",
            "  6.7646410e-03  2.9144168e-03 -4.9328315e-03  4.3981876e-03\n",
            " -1.7395747e-03  6.7113843e-03  9.9648498e-03 -4.3624435e-03\n",
            " -5.9933780e-04 -5.6956373e-03  3.8508223e-03  2.7866268e-03\n",
            "  6.8910765e-03  6.1010956e-03  9.5384968e-03  9.2734173e-03\n",
            "  7.8980681e-03 -6.9895042e-03 -9.1558648e-03 -3.5575271e-04\n",
            " -3.0998408e-03  7.8943167e-03  5.9385742e-03 -1.5456629e-03\n",
            "  1.5109634e-03  1.7900408e-03  7.8175711e-03 -9.5101865e-03\n",
            " -2.0553112e-04  3.4691966e-03 -9.3897223e-04  8.3817719e-03\n",
            "  9.0107834e-03  6.5365066e-03 -7.1162102e-04  7.7104042e-03\n",
            " -8.5343346e-03  3.2071066e-03 -4.6379971e-03 -5.0889552e-03\n",
            "  3.5896183e-03  5.3703394e-03  7.7695143e-03 -5.7665063e-03\n",
            "  7.4333609e-03  6.6254963e-03 -3.7098003e-03 -8.7456414e-03\n",
            "  5.4374672e-03  6.5097557e-03 -7.8755023e-04 -6.7098560e-03\n",
            " -7.0859254e-03 -2.4970602e-03  5.1432536e-03 -3.6652375e-03\n",
            " -9.3700597e-03  3.8267397e-03  4.8844791e-03 -6.4285635e-03\n",
            "  1.2085581e-03 -2.0748770e-03  2.4403334e-05 -9.8835090e-03\n",
            "  2.6920044e-03 -4.7501065e-03  1.0876465e-03 -1.5762246e-03\n",
            "  2.1966731e-03 -7.8815762e-03 -2.7171839e-03  2.6631986e-03\n",
            "  5.3466819e-03 -2.3915148e-03 -9.5100943e-03  4.5058788e-03]\n"
          ]
        }
      ]
    },
    {
      "cell_type": "code",
      "source": [
        "# Usiamo un Trasformer....e vediamo la differenza!!!\n",
        "\n",
        "from sentence_transformers import SentenceTransformer\n",
        "model = SentenceTransformer('all-MiniLM-L6-v2')\n",
        "\n",
        "# Definisci le frasi contenenti diverse occorrenze della parola \"bank\"\n",
        "sentence1 = \"I went to the bank to deposit some money.\"\n",
        "sentence2 = \"The river bank was a peaceful place for a walk.\"\n",
        "\n",
        "# Embedding delle frasi (leggi: conversione da testo a numero)\n",
        "embedding1 = model.encode([sentence1])\n",
        "embedding2 = model.encode([sentence2])\n",
        "\n",
        "# Stampa gli embedding\n",
        "print(\"Embedding della prima frase:\")\n",
        "print(embedding1)\n",
        "\n",
        "print(\"Embedding della seconda frase:\")\n",
        "print(embedding2)\n"
      ],
      "metadata": {
        "colab": {
          "base_uri": "https://localhost:8080/"
        },
        "id": "ROoQrH9BboaG",
        "outputId": "8ccc0370-5f48-4ac3-ba46-61d7a920d7ac"
      },
      "execution_count": 22,
      "outputs": [
        {
          "output_type": "stream",
          "name": "stdout",
          "text": [
            "Embedding della prima frase:\n",
            "[[ 6.32090643e-02  5.22743128e-02 -4.06320533e-03  5.03417663e-02\n",
            "   3.96230370e-02 -6.06488325e-02  7.72237033e-02 -1.62505545e-03\n",
            "   2.78252773e-02 -2.48362776e-02  3.81239578e-02 -1.54452780e-02\n",
            "  -1.73772275e-02  4.25712718e-03 -9.17293970e-03 -7.33819082e-02\n",
            "  -1.69323441e-02 -3.25590521e-02 -1.61325019e-02  2.48571858e-02\n",
            "  -2.50509158e-02 -3.44274305e-02 -4.76198420e-02  7.82929827e-03\n",
            "   5.91122136e-02  6.49636313e-02 -1.94869842e-02 -1.27603102e-03\n",
            "  -4.51587141e-02 -8.64801463e-03 -1.69115234e-02  4.74348962e-02\n",
            "  -9.23231095e-02 -1.05147377e-01  6.37024790e-02  1.98642854e-02\n",
            "   2.10864898e-02  3.47249862e-03  7.32519552e-02 -3.58118489e-03\n",
            "  -9.41104349e-03 -4.97220419e-02  9.03290063e-02  2.17400938e-02\n",
            "   8.83790664e-03 -4.59264126e-03  2.79887691e-02  6.22412190e-02\n",
            "   1.06648266e-01  7.33149797e-02  8.37258250e-02 -6.51484206e-02\n",
            "  -1.93301234e-02  1.03957597e-02 -6.79869950e-02 -1.80929583e-02\n",
            "   8.78399387e-02  4.46983539e-02 -2.64682458e-03 -5.47871999e-02\n",
            "  -2.92744208e-03 -3.94947547e-03  7.37823895e-04  3.33052762e-02\n",
            "  -3.03739449e-03  2.03998797e-02 -7.44480714e-02 -1.85290780e-02\n",
            "   7.31231123e-02 -1.71495024e-02  6.07721917e-02 -5.37561253e-02\n",
            "  -5.60617968e-02 -4.80270050e-02 -4.42727134e-02 -1.15547888e-02\n",
            "   9.71223637e-02 -4.16460447e-03  4.61423248e-02 -1.24671711e-02\n",
            "  -5.36854938e-02 -4.05321978e-02  1.69285312e-02  3.76320407e-02\n",
            "   2.23347042e-02  3.65076251e-02  2.60257088e-02  3.86480317e-02\n",
            "   2.24916711e-02 -1.07891206e-02  5.16417734e-02  4.96596023e-02\n",
            "  -3.18308361e-02  1.12752886e-02  2.10258141e-02 -9.13934112e-02\n",
            "  -1.52026452e-02  6.00244775e-02  2.68313512e-02  8.29827711e-02\n",
            "   1.50112391e-01  9.00385305e-02  5.67767071e-03  1.43881682e-02\n",
            "   1.20833300e-01  1.34287402e-02  1.61209293e-02  2.62589175e-02\n",
            "   4.69045825e-02 -1.05111465e-01 -3.94268148e-02  2.88386848e-02\n",
            "   6.48462996e-02  1.99901368e-02 -3.83490846e-02  1.53853912e-02\n",
            "  -8.03410932e-02  4.14547659e-02  2.40622647e-02 -1.14159193e-03\n",
            "   6.34593740e-02  7.94416741e-02 -9.24684703e-02 -2.81110010e-03\n",
            "  -1.19232871e-01 -6.11485541e-02  2.29970347e-02 -5.00613767e-33\n",
            "  -1.25615047e-02  7.06456825e-02  2.35785618e-02  2.71926858e-02\n",
            "   2.37780455e-02 -6.25252724e-05 -6.48311246e-03  5.28625809e-02\n",
            "  -6.81295842e-02  7.95232132e-02  2.47791689e-02 -4.40391786e-02\n",
            "  -1.97500121e-02 -3.56254168e-03 -1.23522155e-01  2.41896007e-02\n",
            "  -3.95688415e-02  2.16739196e-02  8.48112255e-02  5.80523126e-02\n",
            "   9.76666361e-02 -5.67622073e-02 -5.48459636e-03  2.01538913e-02\n",
            "   3.56934033e-02  4.52167168e-02 -8.68500099e-02 -6.61953986e-02\n",
            "   6.41485602e-02  8.88133887e-03  5.92297129e-03 -4.82333452e-02\n",
            "   6.58500493e-02 -3.08706407e-02  2.24344525e-03 -1.65309310e-02\n",
            "   6.08624294e-02 -4.17867713e-02 -5.09431176e-02 -2.82510109e-02\n",
            "   4.18174453e-02  1.56030189e-02  2.94507500e-02  1.17526250e-02\n",
            "  -5.21647856e-02  4.39465456e-02 -3.73847671e-02  4.95800227e-02\n",
            "  -3.47876698e-02  2.30804202e-03 -1.01400562e-01 -4.57678409e-03\n",
            "  -5.05853072e-02  1.16826296e-02 -5.56771979e-02 -8.45378637e-02\n",
            "   2.48453021e-02 -6.29870966e-02 -3.50232385e-02 -7.12427199e-02\n",
            "   3.29919346e-02  3.78861390e-02 -9.85675231e-02 -7.02096289e-03\n",
            "  -9.38697606e-02 -3.30164321e-02  4.82377484e-02 -2.84853224e-02\n",
            "   5.42391911e-02  3.22321174e-03 -6.78999200e-02  4.71546687e-02\n",
            "   7.53382891e-02  3.89369503e-02  1.74115486e-02 -2.23904233e-02\n",
            "  -3.82324047e-02 -3.08237281e-02 -5.94939664e-02 -4.47250679e-02\n",
            "   1.05337791e-01 -8.39324668e-02 -2.41268743e-02  6.91188276e-02\n",
            "   4.49414887e-02  5.16341664e-02 -3.45137641e-02 -1.05181195e-01\n",
            "  -2.75604539e-02 -6.27711937e-02 -3.86332721e-02 -2.72326954e-02\n",
            "   7.88966492e-02 -8.06409791e-02 -3.49421687e-02  1.84562219e-33\n",
            "   2.66323257e-02 -8.50725174e-02  3.33348215e-02  3.40846255e-02\n",
            "  -1.31725585e-02 -3.15955095e-02  1.86105985e-02 -1.90812405e-02\n",
            "   5.37453629e-02  6.94737285e-02  3.41856107e-03  6.46345243e-02\n",
            "   5.14286235e-02  4.23835358e-03  2.69313809e-02 -3.28301899e-02\n",
            "  -7.35032465e-03  9.72415507e-03  5.73151372e-02 -2.12231167e-02\n",
            "  -4.87050563e-02 -1.65784359e-02  8.67920369e-02  4.40219529e-02\n",
            "  -2.29559485e-02  2.10628100e-02  7.51601160e-02 -4.89912704e-02\n",
            "  -9.37116742e-02  4.80227955e-02  6.83608353e-02 -4.17648852e-02\n",
            "  -5.48680834e-02 -4.01473269e-02 -5.61961941e-02  9.49230790e-03\n",
            "   6.43366855e-03 -2.77155954e-02 -1.75828300e-02 -3.56301107e-02\n",
            "  -4.09891270e-03  2.56966776e-03 -1.29259471e-02  1.07910417e-01\n",
            "   1.55945914e-03 -5.04345037e-02 -1.30064227e-02  2.24417006e-03\n",
            "   5.98925725e-02  3.57041471e-02  2.69687288e-02 -7.24006668e-02\n",
            "  -1.65595021e-03  3.23687792e-02 -4.37700264e-02  8.90033320e-02\n",
            "   8.65791887e-02 -3.71055789e-02  4.17117365e-02 -1.08304694e-02\n",
            "  -1.11211412e-01  3.37553397e-02 -1.03245370e-01  1.06901499e-02\n",
            "  -4.20630760e-02 -4.42034043e-02  1.92350410e-02 -1.49582755e-02\n",
            "  -5.03561646e-03 -4.43829782e-02 -7.08009824e-02  3.37676518e-02\n",
            "   5.26188053e-02  5.63215651e-02  6.80791214e-02  5.13093434e-02\n",
            "   2.60475725e-02 -1.30388215e-02 -1.79107096e-02 -4.16873805e-02\n",
            "   4.66866093e-03 -2.40703039e-02  2.02466380e-02 -4.74363975e-02\n",
            "   7.47388452e-02 -6.83415681e-02  2.93617956e-02 -1.04336441e-01\n",
            "  -3.67999710e-02 -3.74422371e-02 -2.21581087e-02  2.26537567e-02\n",
            "   7.93241113e-02  5.33398837e-02 -4.22928147e-02 -1.89337470e-08\n",
            "  -5.54518960e-02  7.30094910e-02  7.06080198e-02 -1.72048640e-02\n",
            "   3.82114612e-02  1.45651363e-02  2.81553506e-03  5.94995655e-02\n",
            "  -1.84968915e-02 -6.76183626e-02 -5.69499359e-02  2.68559419e-02\n",
            "  -1.08720526e-01 -5.64077571e-02  4.23194431e-02 -5.33548929e-02\n",
            "   3.03917937e-02 -1.09600142e-01 -2.29652971e-02  4.43279408e-02\n",
            "  -4.01245579e-02  4.02089283e-02 -4.30833325e-02 -5.43007404e-02\n",
            "  -1.39877545e-02 -8.09350749e-04  1.16806321e-01  1.49351552e-01\n",
            "   4.45180945e-02 -3.92478555e-02 -3.75504382e-02  6.23796508e-02\n",
            "  -1.27247833e-02 -1.75068937e-02 -3.34689990e-02 -5.77113964e-03\n",
            "   5.50522134e-02 -3.34195830e-02  4.94686514e-02 -5.56440279e-03\n",
            "  -2.69267578e-02 -4.84304018e-02 -2.74664816e-02 -3.16697620e-02\n",
            "   8.71136505e-03  2.97567639e-02 -5.19260243e-02  9.33583081e-03\n",
            "   1.38532929e-02 -1.56073291e-02 -3.31351645e-02 -6.42301515e-02\n",
            "   2.76083201e-02  7.31817558e-02  6.82794005e-02 -1.22101016e-01\n",
            "  -7.61780962e-02 -4.41259779e-02 -7.51990778e-03 -1.42523926e-02\n",
            "   3.28084789e-02 -3.47277261e-02 -7.29489475e-02 -8.35476518e-02]]\n",
            "Embedding della seconda frase:\n",
            "[[ 1.05509408e-01  6.68371469e-02 -5.30863106e-02  6.46367148e-02\n",
            "   1.81910917e-02 -1.72129441e-02  6.07477538e-02 -2.98439786e-02\n",
            "  -4.31611203e-02 -1.01487781e-03 -1.30585069e-02 -4.21312125e-03\n",
            "  -1.06336335e-02 -1.85447857e-02 -4.34838869e-02  8.24885145e-02\n",
            "  -4.27019820e-02  5.98000188e-04  3.64776291e-02  9.41512547e-03\n",
            "  -4.70699221e-02  1.21020721e-02  2.66690366e-02  5.03041521e-02\n",
            "  -1.81171857e-03  6.69299066e-02  2.57163085e-02  1.37324333e-02\n",
            "   1.74121764e-02  2.25754734e-02  3.68912108e-02  1.27009330e-02\n",
            "  -5.25885820e-02 -1.61729697e-02  4.90375943e-02  3.21339928e-02\n",
            "   1.16391495e-01 -1.68873277e-02  5.45906425e-02 -3.60112041e-02\n",
            "   3.21804024e-02  2.13829577e-02  6.69050589e-02 -3.93037312e-02\n",
            "  -1.61796976e-02 -3.43765551e-03  4.51185480e-02 -3.43854912e-02\n",
            "  -2.58210544e-02 -3.15866247e-02  9.08490941e-02 -6.42302111e-02\n",
            "  -6.14590906e-02 -3.65180112e-02 -4.40031514e-02 -5.41971810e-02\n",
            "   4.77940179e-02  1.37273325e-02  2.39172522e-02  1.62917916e-02\n",
            "   2.53261942e-02  6.44659847e-02 -8.34141392e-03  3.62000205e-02\n",
            "   3.78239341e-02 -2.52464972e-02 -7.07993098e-03  8.87596458e-02\n",
            "   6.55081719e-02 -4.36841212e-02 -1.64484791e-02 -8.58367011e-02\n",
            "   1.95423476e-02 -1.23224519e-01 -6.40947595e-02 -8.51281062e-02\n",
            "  -1.66667206e-03  7.70033598e-02 -2.13912968e-02  2.49843206e-03\n",
            "  -1.32744340e-02 -1.07508466e-01  3.32659930e-02  1.83680616e-02\n",
            "   1.68666593e-03  1.35109695e-02 -1.81482770e-02 -2.18218695e-02\n",
            "   7.84067363e-02 -1.61417704e-02 -3.53574450e-03  9.35282856e-02\n",
            "   2.59488802e-02 -8.60819370e-02  5.13500422e-02 -1.54610090e-02\n",
            "  -5.42812124e-02  9.86602716e-03  5.47285890e-03  2.29475694e-03\n",
            "   9.69451889e-02  4.61779349e-02  3.13628577e-02 -1.33392680e-03\n",
            "   7.38268718e-02  4.10345346e-02 -5.92328161e-02 -5.32065853e-02\n",
            "   1.91074098e-03 -1.21412333e-02 -5.83367907e-02 -3.28883268e-02\n",
            "   7.40326121e-02  6.54585809e-02  2.91782953e-02  1.86610948e-02\n",
            "  -7.56987482e-02 -1.26150558e-02  5.15821995e-03  5.69766164e-02\n",
            "   2.93250903e-02 -1.10816350e-03 -7.38373846e-02  4.60543521e-02\n",
            "  -4.65563796e-02  4.16821502e-02  6.43914565e-02 -7.41322500e-33\n",
            "  -1.21676014e-03 -3.57339121e-02  4.57572378e-02 -2.14374810e-02\n",
            "   9.07015055e-02 -2.10414343e-02 -5.27485758e-02 -3.52435932e-02\n",
            "   1.24480557e-02  1.56925321e-02  4.78574820e-02 -1.63466811e-01\n",
            "   6.91032708e-02  1.84050873e-02 -4.64664623e-02 -6.27548099e-02\n",
            "  -6.21978529e-02 -7.78363645e-02 -8.18604790e-03  1.68338697e-02\n",
            "   6.19959505e-03 -4.85982671e-02  1.79751478e-02 -4.51177955e-02\n",
            "   3.28991488e-02 -5.09787276e-02 -2.29472164e-02  4.11696173e-02\n",
            "   6.45014122e-02  6.08670432e-03 -7.70012364e-02 -7.33105615e-02\n",
            "   5.58169093e-03 -4.13484462e-02  2.65709241e-03  3.43931913e-02\n",
            "   4.25946200e-03  4.11840127e-04  2.95322407e-02  6.49207737e-03\n",
            "   4.53248341e-03  1.44468620e-02  2.18970943e-02  4.93501276e-02\n",
            "   7.88134336e-02  9.03581232e-02 -2.56089065e-02  1.28009319e-02\n",
            "  -5.98130934e-02 -1.28448466e-02 -7.86003917e-02 -5.53527251e-02\n",
            "  -4.15581949e-02 -9.34876595e-03 -3.47792334e-03 -4.63163927e-02\n",
            "  -2.01310177e-04  1.78982079e-01 -4.02420610e-02  7.88462069e-03\n",
            "  -3.83955613e-02  4.68163043e-02 -3.44605856e-02 -1.78336576e-02\n",
            "   9.97502729e-02  4.14531380e-02 -1.54466787e-03  4.71390970e-02\n",
            "   3.19052637e-02 -7.14092851e-02 -3.56907398e-02  9.51741114e-02\n",
            "   4.29292433e-02 -5.35822194e-03 -1.08920056e-02  1.17324982e-02\n",
            "  -3.42403837e-02 -4.19986725e-04 -1.53287183e-02  8.50774162e-03\n",
            "  -6.18060715e-02  2.22937074e-02 -6.04935884e-02  1.51462823e-01\n",
            "   8.17192718e-02 -7.36055151e-02  5.28197214e-02 -1.12407282e-01\n",
            "  -1.15524791e-01 -1.69239175e-02  6.19623391e-03  3.96088772e-02\n",
            "   7.45772198e-02 -6.61661988e-03  1.62166301e-02  4.31748349e-33\n",
            "   6.78124279e-02  2.83039473e-02  4.32905182e-02  1.44496197e-02\n",
            "  -2.62620933e-02 -3.82808261e-02  1.94310788e-02 -2.79812682e-02\n",
            "   4.34806943e-02  7.89093822e-02 -7.77081549e-02  2.83265137e-03\n",
            "  -4.50762138e-02  5.94594814e-02  1.02083609e-01 -2.59034373e-02\n",
            "   8.52775350e-02  4.60736193e-02 -9.74445255e-04  3.34893577e-02\n",
            "  -2.41642222e-02  4.09156308e-02 -1.61899813e-02 -3.36282738e-02\n",
            "  -1.08179059e-02  3.73346135e-02 -1.80927105e-02 -1.38478070e-01\n",
            "  -5.35800727e-03 -3.34884822e-02  7.40158483e-02  2.31062677e-02\n",
            "  -4.90434580e-02 -6.04170188e-02 -4.74768579e-02  3.72149125e-02\n",
            "   3.75941247e-02  4.39284295e-02  9.53083932e-02  5.39540015e-02\n",
            "   3.06629110e-02  4.35586199e-02  1.17713325e-02 -3.11866403e-03\n",
            "  -9.55461524e-03  1.08832955e-01 -2.48854030e-02  3.41419876e-02\n",
            "  -9.08354223e-02 -2.09155492e-02  2.44586542e-02  2.85574887e-02\n",
            "  -4.69987504e-02  3.63732092e-02  6.01088963e-02 -1.41847432e-02\n",
            "   2.26410236e-02 -1.16730196e-04 -5.00330590e-02 -8.69873017e-02\n",
            "  -7.14617148e-02  7.23036826e-02 -4.95221689e-02  2.59531215e-02\n",
            "  -4.60832333e-03  1.26630918e-03 -9.91673768e-02 -4.12412744e-04\n",
            "  -2.70565618e-02 -5.68516329e-02 -3.47913057e-02  2.46767681e-02\n",
            "  -7.28016645e-02  9.31427330e-02  1.33757684e-02  1.74101070e-02\n",
            "   2.67948583e-02 -2.85732336e-02  6.65509235e-03 -7.94949755e-03\n",
            "  -5.01583703e-02  6.89646304e-02 -1.55192511e-02 -4.38207313e-02\n",
            "   4.06546853e-02 -2.87662335e-02 -3.20490152e-02 -8.48133713e-02\n",
            "   2.77580786e-02 -8.80308636e-03  5.10238782e-02 -1.21531062e-01\n",
            "  -4.03423421e-02  1.99427009e-02 -3.57781276e-02 -1.77698674e-08\n",
            "  -3.53720263e-02 -2.22547967e-02 -4.58493084e-02 -5.05545037e-03\n",
            "   9.87558812e-03 -6.92085223e-03  1.08167373e-01  6.14920184e-02\n",
            "  -3.15115266e-02  6.92206398e-02 -3.95472534e-02  1.12646017e-02\n",
            "  -7.94300064e-02  8.60165060e-02 -5.81891052e-02  1.49612790e-02\n",
            "   6.60700947e-02 -1.42329201e-01 -4.80140001e-02  8.47126264e-03\n",
            "   4.11287434e-02 -2.89277844e-02 -1.25250757e-01  4.88573983e-02\n",
            "  -5.72143048e-02 -4.36328761e-02  1.41502125e-02 -2.14662254e-02\n",
            "   7.83700421e-02 -2.70276126e-02  5.97287379e-02  4.18634489e-02\n",
            "  -1.09343141e-01 -2.21454799e-02 -1.14320153e-02  7.93864019e-03\n",
            "   1.05700297e-02 -2.47637033e-02  1.96071528e-02 -2.04034988e-02\n",
            "  -2.01671217e-02  6.99622035e-02 -3.34080844e-03 -5.05492650e-02\n",
            "   9.28875878e-02 -1.64090227e-02  3.70793715e-02 -5.99286379e-03\n",
            "  -4.64587770e-02 -5.24575524e-02 -4.76595275e-02  5.55040594e-03\n",
            "   9.63050872e-02  3.12346965e-02  4.37849388e-02 -6.82719797e-02\n",
            "  -8.03831220e-02 -6.31431937e-02 -2.64801178e-02 -2.16549672e-02\n",
            "   4.52370830e-02  1.99652053e-02  3.07998713e-03 -3.87318358e-02]]\n"
          ]
        }
      ]
    },
    {
      "cell_type": "code",
      "source": [
        "print(len(embedding1[0]))\n",
        "print(len(embedding2))"
      ],
      "metadata": {
        "colab": {
          "base_uri": "https://localhost:8080/"
        },
        "id": "1IbtTAvC_8H6",
        "outputId": "29967b52-c0f3-426e-a27d-72a9b0e54501"
      },
      "execution_count": 23,
      "outputs": [
        {
          "output_type": "stream",
          "name": "stdout",
          "text": [
            "384\n",
            "1\n"
          ]
        }
      ]
    }
  ]
}